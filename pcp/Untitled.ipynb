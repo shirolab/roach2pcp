{
 "cells": [
  {
   "cell_type": "code",
   "execution_count": 1,
   "metadata": {
    "collapsed": true
   },
   "outputs": [],
   "source": [
    "import numpy as np\n",
    "import sys"
   ]
  },
  {
   "cell_type": "code",
   "execution_count": 2,
   "metadata": {
    "collapsed": false
   },
   "outputs": [
    {
     "data": {
      "text/plain": [
       "['',\n",
       " '/Users/PeteBarry/anaconda/lib/python27.zip',\n",
       " '/Users/PeteBarry/anaconda/lib/python2.7',\n",
       " '/Users/PeteBarry/anaconda/lib/python2.7/plat-darwin',\n",
       " '/Users/PeteBarry/anaconda/lib/python2.7/plat-mac',\n",
       " '/Users/PeteBarry/anaconda/lib/python2.7/plat-mac/lib-scriptpackages',\n",
       " '/Users/PeteBarry/anaconda/lib/python2.7/lib-tk',\n",
       " '/Users/PeteBarry/anaconda/lib/python2.7/lib-old',\n",
       " '/Users/PeteBarry/anaconda/lib/python2.7/lib-dynload',\n",
       " '/Users/PeteBarry/anaconda/lib/python2.7/site-packages',\n",
       " '/Users/PeteBarry/anaconda/lib/python2.7/site-packages/Sphinx-1.4.6-py2.7.egg',\n",
       " '/Users/PeteBarry/anaconda/lib/python2.7/site-packages/aeosa',\n",
       " '/Users/PeteBarry/anaconda/lib/python2.7/site-packages/setuptools-27.2.0-py2.7.egg',\n",
       " '/Users/PeteBarry/anaconda/lib/python2.7/site-packages/IPython/extensions',\n",
       " '/Users/PeteBarry/.ipython',\n",
       " '/Users/PeteBarry/Documents/AnalysisCode/Python_files/',\n",
       " '/Users/PeteBarry/Documents/AnalysisCode/Python_files/modules/',\n",
       " '/Library/Python/2.7/site-packages/']"
      ]
     },
     "execution_count": 2,
     "metadata": {},
     "output_type": "execute_result"
    }
   ],
   "source": [
    "sys.path"
   ]
  },
  {
   "cell_type": "code",
   "execution_count": null,
   "metadata": {
    "collapsed": true
   },
   "outputs": [],
   "source": []
  }
 ],
 "metadata": {
  "anaconda-cloud": {},
  "kernelspec": {
   "display_name": "Python [conda root]",
   "language": "python",
   "name": "conda-root-py"
  },
  "language_info": {
   "codemirror_mode": {
    "name": "ipython",
    "version": 2
   },
   "file_extension": ".py",
   "mimetype": "text/x-python",
   "name": "python",
   "nbconvert_exporter": "python",
   "pygments_lexer": "ipython2",
   "version": "2.7.12"
  }
 },
 "nbformat": 4,
 "nbformat_minor": 1
}
